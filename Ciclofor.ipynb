{
  "nbformat": 4,
  "nbformat_minor": 0,
  "metadata": {
    "colab": {
      "name": "Ciclofor.ipynb",
      "provenance": [],
      "authorship_tag": "ABX9TyPNMk74GzKAcVSS7esq1E8e",
      "include_colab_link": true
    },
    "kernelspec": {
      "name": "python3",
      "display_name": "Python 3"
    },
    "language_info": {
      "name": "python"
    }
  },
  "cells": [
    {
      "cell_type": "markdown",
      "metadata": {
        "id": "view-in-github",
        "colab_type": "text"
      },
      "source": [
        "<a href=\"https://colab.research.google.com/github/MarceBlancoS/Prueba_pyhton/blob/main/Ciclofor.ipynb\" target=\"_parent\"><img src=\"https://colab.research.google.com/assets/colab-badge.svg\" alt=\"Open In Colab\"/></a>"
      ]
    },
    {
      "cell_type": "code",
      "execution_count": 1,
      "metadata": {
        "colab": {
          "base_uri": "https://localhost:8080/"
        },
        "id": "4nAfZ0pLKq8o",
        "outputId": "30249069-c8c5-4474-a372-8334eccf709f"
      },
      "outputs": [
        {
          "output_type": "stream",
          "name": "stdout",
          "text": [
            "h\n",
            "o\n",
            "l\n",
            "a\n",
            "fin de ciclo for\n"
          ]
        }
      ],
      "source": [
        "cadena = \"hola\"\n",
        "for o in cadena:\n",
        "  print (o)\n",
        "else:\n",
        "  print (\"fin de ciclo for\")\n",
        "  "
      ]
    },
    {
      "cell_type": "code",
      "source": [
        "for i in \"holanda\":\n",
        "  if i == \"d\":\n",
        "    print(f\"letra encontrada: {i}\")\n"
      ],
      "metadata": {
        "colab": {
          "base_uri": "https://localhost:8080/"
        },
        "id": "gGdziUazLp7b",
        "outputId": "278e643a-686f-4b42-d9d4-8cc23a761dcf"
      },
      "execution_count": 3,
      "outputs": [
        {
          "output_type": "stream",
          "name": "stdout",
          "text": [
            "letra encontrada: d\n"
          ]
        }
      ]
    },
    {
      "cell_type": "code",
      "source": [
        "for i in \"ssaturno\":\n",
        "  if i == \"s\":\n",
        "    print(f\"letra encontrada: {i}\")\n",
        "    break\n",
        "else:\n",
        "  print(\"fin de ciclo\")"
      ],
      "metadata": {
        "colab": {
          "base_uri": "https://localhost:8080/"
        },
        "id": "B7A-0uWKMn_f",
        "outputId": "7862e0fd-7b95-43fb-84ca-472630180985"
      },
      "execution_count": 28,
      "outputs": [
        {
          "output_type": "stream",
          "name": "stdout",
          "text": [
            "letra encontrada: s\n"
          ]
        }
      ]
    },
    {
      "cell_type": "code",
      "source": [
        "for x in range (6):\n",
        "  if x == 3:\n",
        "    break \n",
        "  print(x)\n",
        "  else:\n",
        "  print(\"finally finished\")\n"
      ],
      "metadata": {
        "id": "9sfey1nYefyK"
      },
      "execution_count": null,
      "outputs": []
    },
    {
      "cell_type": "code",
      "source": [
        "i = 0\n",
        "while i < 6:\n",
        "  i += 1\n",
        "  if i == 3:\n",
        "    continue\n",
        "  print(i)"
      ],
      "metadata": {
        "colab": {
          "base_uri": "https://localhost:8080/"
        },
        "id": "flkjxeC4gDEl",
        "outputId": "9b56f206-1741-49d1-f63b-38d7e8419d71"
      },
      "execution_count": 38,
      "outputs": [
        {
          "output_type": "stream",
          "name": "stdout",
          "text": [
            "1\n",
            "2\n",
            "4\n",
            "5\n",
            "6\n"
          ]
        }
      ]
    }
  ]
}