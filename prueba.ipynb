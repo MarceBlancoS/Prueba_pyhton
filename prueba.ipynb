{
  "nbformat": 4,
  "nbformat_minor": 0,
  "metadata": {
    "colab": {
      "name": "prueba.ipynb",
      "provenance": [],
      "collapsed_sections": [],
      "authorship_tag": "ABX9TyNsOC752EmeO5Py8dFl+WsC",
      "include_colab_link": true
    },
    "kernelspec": {
      "name": "python3",
      "display_name": "Python 3"
    },
    "language_info": {
      "name": "python"
    }
  },
  "cells": [
    {
      "cell_type": "markdown",
      "metadata": {
        "id": "view-in-github",
        "colab_type": "text"
      },
      "source": [
        "<a href=\"https://colab.research.google.com/github/MarceBlancoS/Prueba_pyhton/blob/main/prueba.ipynb\" target=\"_parent\"><img src=\"https://colab.research.google.com/assets/colab-badge.svg\" alt=\"Open In Colab\"/></a>"
      ]
    },
    {
      "cell_type": "code",
      "execution_count": 1,
      "metadata": {
        "id": "sfNuUW_Zi56c",
        "colab": {
          "base_uri": "https://localhost:8080/"
        },
        "outputId": "04ad1788-94f1-40cf-b85e-68f4da5678fa"
      },
      "outputs": [
        {
          "output_type": "stream",
          "name": "stdout",
          "text": [
            "Hola Marcela\n"
          ]
        }
      ],
      "source": [
        "print(\"Hola Marcela\")"
      ]
    },
    {
      "cell_type": "code",
      "source": [
        "#este es un comentario"
      ],
      "metadata": {
        "id": "V6Szye4jkzc1"
      },
      "execution_count": 2,
      "outputs": []
    },
    {
      "cell_type": "markdown",
      "source": [
        "**este** **es** **un** **comentario**"
      ],
      "metadata": {
        "id": "j8rw40EJk_Wm"
      }
    },
    {
      "cell_type": "code",
      "source": [
        "numero1 = int(input(\"ingrese primer numero; \"))"
      ],
      "metadata": {
        "colab": {
          "base_uri": "https://localhost:8080/"
        },
        "id": "M4wdW0nilI5H",
        "outputId": "5ff86058-5c5e-43b8-bba3-2f2175db2149"
      },
      "execution_count": 9,
      "outputs": [
        {
          "name": "stdout",
          "output_type": "stream",
          "text": [
            "ingrese primer numero; 56\n"
          ]
        }
      ]
    },
    {
      "cell_type": "code",
      "source": [
        "numero2 = float(input(\"ingrese segundo numero; \"))\n"
      ],
      "metadata": {
        "colab": {
          "base_uri": "https://localhost:8080/"
        },
        "id": "ngheuJXzlqUW",
        "outputId": "b21177bd-06f5-4797-e81b-09270651adb3"
      },
      "execution_count": 14,
      "outputs": [
        {
          "name": "stdout",
          "output_type": "stream",
          "text": [
            "ingrese segundo numero; 2.567\n"
          ]
        }
      ]
    },
    {
      "cell_type": "code",
      "source": [
        "total= numero1 + numero2\n",
        "total \n",
        "print (total)\n",
        "\n"
      ],
      "metadata": {
        "colab": {
          "base_uri": "https://localhost:8080/"
        },
        "id": "Q69BO9mKuX7v",
        "outputId": "200ef572-c2a6-4436-bea3-1a312c87770d"
      },
      "execution_count": 15,
      "outputs": [
        {
          "output_type": "stream",
          "name": "stdout",
          "text": [
            "58.567\n"
          ]
        }
      ]
    },
    {
      "cell_type": "code",
      "source": [
        "primer_variable= 9\n",
        "print (9)\n",
        "print(primer_variable)\n",
        "print(primer_variable)\n",
        "print(primer_variable)\n",
        "\n"
      ],
      "metadata": {
        "colab": {
          "base_uri": "https://localhost:8080/"
        },
        "id": "EyolDLdP2998",
        "outputId": "9ce55301-6f2c-49c1-fb1e-4c22f31dd78c"
      },
      "execution_count": 19,
      "outputs": [
        {
          "output_type": "stream",
          "name": "stdout",
          "text": [
            "9\n",
            "9\n",
            "9\n",
            "9\n"
          ]
        }
      ]
    },
    {
      "cell_type": "code",
      "source": [
        "Cristina = 4\n",
        "Alicia = 2\n",
        "Pepa = Cristina + Alicia \n",
        "print (Pepa )\n",
        "\n"
      ],
      "metadata": {
        "colab": {
          "base_uri": "https://localhost:8080/"
        },
        "id": "qyU0j4vz4JVY",
        "outputId": "6ab7a806-08dd-4f32-a298-253013df400d"
      },
      "execution_count": 20,
      "outputs": [
        {
          "output_type": "stream",
          "name": "stdout",
          "text": [
            "6\n"
          ]
        }
      ]
    }
  ]
}